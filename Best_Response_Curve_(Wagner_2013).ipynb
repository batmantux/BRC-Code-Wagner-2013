{
  "nbformat": 4,
  "nbformat_minor": 0,
  "metadata": {
    "colab": {
      "name": "Best Response Curve.(Wagner 2013) ",
      "provenance": []
    },
    "kernelspec": {
      "name": "python3",
      "display_name": "Python 3"
    }
  },
  "cells": [
    {
      "cell_type": "code",
      "metadata": {
        "id": "qoo1fB9uJYQX"
      },
      "source": [
        "import matplotlib.pyplot as plt\n",
        "import numpy as np\n",
        "import math \n",
        "point1 = [0, 1]\n",
        "point2 = [1/3, 1]\n",
        "\n",
        "x_values = [point1[0], point2[0]]\n",
        "\n",
        "y_values = [point1[1], point2[1]]\n",
        "\n",
        "\n",
        "\n",
        "plt.plot(x_values, y_values)\n",
        "\n",
        "point1 = [1/3, 1]\n",
        "point2 = [1/3, 0]\n",
        "\n",
        "x_values = [point1[0], point2[0]]\n",
        "\n",
        "y_values = [point1[1], point2[1]]\n",
        "\n",
        "\n",
        "\n",
        "plt.plot(x_values, y_values)\n",
        "\n",
        "point1 = [1/3, 0]\n",
        "point2 = [1, 0]\n",
        "\n",
        "x_values = [point1[0], point2[0]]\n",
        "\n",
        "y_values = [point1[1], point2[1]]\n",
        "\n",
        "\n",
        "\n",
        "plt.plot(x_values, y_values)"
      ],
      "execution_count": null,
      "outputs": []
    }
  ]
}